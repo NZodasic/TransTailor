{
  "cells": [
    {
      "cell_type": "code",
      "execution_count": null,
      "metadata": {},
      "outputs": [],
      "source": [
        "import torch\n",
        "import torch.nn as nn\n",
        "import torch.optim as optim\n",
        "\n",
        "from torchvision.models import vgg16\n",
        "from torchvision import datasets, transforms\n",
        "\n",
        "import copy\n",
        "import time"
      ]
    },
    {
      "cell_type": "markdown",
      "metadata": {},
      "source": [
        "# 1. Tải model VGG-16 và in ra thông tin mô hình"
      ]
    },
    {
      "cell_type": "code",
      "execution_count": null,
      "metadata": {},
      "outputs": [],
      "source": [
        "model = vgg16(weights=None)  # Sử dụng weights=None thay vì pretrained=True\n",
        "print(\"Cấu trúc mô hình VGG-16:\")\n",
        "print(model)"
      ]
    },
    {
      "cell_type": "markdown",
      "metadata": {},
      "source": [
        "### Hàm để tính số lượng tham số của mô hình"
      ]
    },
    {
      "cell_type": "code",
      "execution_count": null,
      "metadata": {},
      "outputs": [],
      "source": [
        "def count_parameters(model):\n",
        "    return sum(p.numel() for p in model.parameters() if p.requires_grad)\n",
        "\n",
        "print(f\"Số lượng tham số của mô hình ban đầu: {count_parameters(model)}\")"
      ]
    },
    {
      "cell_type": "markdown",
      "metadata": {},
      "source": [
        "# 2. Thực hiện prune một filter và xem sự thay đổi về shape"
      ]
    },
    {
      "cell_type": "code",
      "execution_count": null,
      "metadata": {},
      "outputs": [],
      "source": [
        "def prune_filter(model, layer_index, filter_index):\n",
        "    conv_layer = model.features[layer_index]\n",
        "    next_conv_layer = None\n",
        "    \n",
        "    # Tìm lớp tích chập tiếp theo\n",
        "    for layer in model.features[layer_index+1:]:\n",
        "        if isinstance(layer, nn.Conv2d):\n",
        "            next_conv_layer = layer\n",
        "            break\n",
        "    \n",
        "    # Tạo một lớp tích chập mới với số filter giảm đi 1\n",
        "    new_conv = nn.Conv2d(in_channels=conv_layer.in_channels,\n",
        "                         out_channels=conv_layer.out_channels - 1,\n",
        "                         kernel_size=conv_layer.kernel_size,\n",
        "                         stride=conv_layer.stride,\n",
        "                         padding=conv_layer.padding,\n",
        "                         dilation=conv_layer.dilation,\n",
        "                         groups=conv_layer.groups,\n",
        "                         bias=conv_layer.bias is not None)\n",
        "\n",
        "    # Sao chép trọng số và bias, ngoại trừ filter được prune\n",
        "    new_filters = torch.cat((conv_layer.weight.data[:filter_index], conv_layer.weight.data[filter_index+1:]))\n",
        "    new_conv.weight.data = new_filters\n",
        "\n",
        "    if conv_layer.bias is not None:\n",
        "        new_biases = torch.cat((conv_layer.bias.data[:filter_index], conv_layer.bias.data[filter_index+1:]))\n",
        "        new_conv.bias.data = new_biases\n",
        "\n",
        "    # Thay thế lớp tích chập cũ bằng lớp mới trong mô hình\n",
        "    model.features[layer_index] = new_conv\n",
        "\n",
        "    # Điều chỉnh lớp tích chập tiếp theo nếu có\n",
        "    if next_conv_layer is not None:\n",
        "        next_new_conv = nn.Conv2d(in_channels=next_conv_layer.in_channels - 1,\n",
        "                                  out_channels=next_conv_layer.out_channels,\n",
        "                                  kernel_size=next_conv_layer.kernel_size,\n",
        "                                  stride=next_conv_layer.stride,\n",
        "                                  padding=next_conv_layer.padding,\n",
        "                                  dilation=next_conv_layer.dilation,\n",
        "                                  groups=next_conv_layer.groups,\n",
        "                                  bias=next_conv_layer.bias is not None)\n",
        "        \n",
        "        next_new_conv.weight.data = next_conv_layer.weight.data[:, :filter_index, :, :].clone()\n",
        "        next_new_conv.weight.data = torch.cat([next_new_conv.weight.data, next_conv_layer.weight.data[:, filter_index+1:, :, :]], dim=1)\n",
        "        \n",
        "        if next_conv_layer.bias is not None:\n",
        "            next_new_conv.bias.data = next_conv_layer.bias.data.clone()\n",
        "        \n",
        "        # Tìm index của lớp tích chập tiếp theo\n",
        "        for i, layer in enumerate(model.features[layer_index+1:]):\n",
        "            if isinstance(layer, nn.Conv2d):\n",
        "                next_layer_index = layer_index + 1 + i\n",
        "                break\n",
        "        \n",
        "        model.features[next_layer_index] = next_new_conv\n",
        "\n",
        "    return model\n",
        "\n",
        "# Prune filter đầu tiên của lớp tích chập đầu tiên\n",
        "pruned_model = prune_filter(copy.deepcopy(model), 0, 0)\n"
      ]
    },
    {
      "cell_type": "code",
      "execution_count": null,
      "metadata": {},
      "outputs": [],
      "source": [
        "print(\"\\nShape của lớp tích chập đầu tiên trước khi pruning:\")\n",
        "print(model.features[0].weight.shape)\n",
        "print(\"Shape của lớp tích chập đầu tiên sau khi pruning:\")\n",
        "print(pruned_model.features[0].weight.shape)\n",
        "\n",
        "# Print số lượng tham số sau khi pruning\n",
        "print(f\"\\nSố lượng tham số sau khi pruning: {count_parameters(pruned_model)}\")"
      ]
    },
    {
      "cell_type": "markdown",
      "metadata": {},
      "source": [
        "### Chuẩn bị dữ liệu"
      ]
    },
    {
      "cell_type": "code",
      "execution_count": null,
      "metadata": {},
      "outputs": [],
      "source": [
        "transform = transforms.Compose([\n",
        "    transforms.Resize(256),\n",
        "    transforms.CenterCrop(224),\n",
        "    transforms.ToTensor(),\n",
        "    transforms.Normalize(mean=[0.485, 0.456, 0.406], std=[0.229, 0.224, 0.225]),\n",
        "])\n",
        "\n",
        "# Sử dụng một tập dữ liệu nhỏ để demo (1000 ảnh)\n",
        "dataset = datasets.CIFAR10(root='./data', train=True, download=True, transform=transform)\n",
        "subset_size = 1000\n",
        "subset_indices = torch.randperm(len(dataset))[:subset_size]\n",
        "subset = torch.utils.data.Subset(dataset, subset_indices)\n",
        "dataloader = torch.utils.data.DataLoader(subset, batch_size=32, shuffle=True)\n"
      ]
    },
    {
      "cell_type": "markdown",
      "metadata": {},
      "source": [
        "### Training method"
      ]
    },
    {
      "cell_type": "code",
      "execution_count": null,
      "metadata": {},
      "outputs": [],
      "source": [
        "def train_model(model, dataloader, criterion, optimizer, num_epochs=5):\n",
        "    device = torch.device(\"cuda:0\" if torch.cuda.is_available() else \"cpu\")\n",
        "    model.to(device)\n",
        "    \n",
        "    for epoch in range(num_epochs):\n",
        "        print(f'Epoch {epoch+1}/{num_epochs}')\n",
        "        print('-' * 10)\n",
        "        \n",
        "        model.train()\n",
        "        running_loss = 0.0\n",
        "        \n",
        "        for inputs, labels in dataloader:\n",
        "            inputs = inputs.to(device)\n",
        "            labels = labels.to(device)\n",
        "            \n",
        "            optimizer.zero_grad()\n",
        "            outputs = model(inputs)\n",
        "            loss = criterion(outputs, labels)\n",
        "            loss.backward()\n",
        "            optimizer.step()\n",
        "            \n",
        "            running_loss += loss.item() * inputs.size(0)\n",
        "        \n",
        "        epoch_loss = running_loss / len(dataloader.dataset)\n",
        "        print(f'Training Loss: {epoch_loss:.4f}')\n",
        "    \n",
        "    return model, epoch_loss"
      ]
    },
    {
      "cell_type": "markdown",
      "metadata": {},
      "source": [
        "### Train mô hình gốc"
      ]
    },
    {
      "cell_type": "code",
      "execution_count": null,
      "metadata": {},
      "outputs": [],
      "source": [
        "criterion = nn.CrossEntropyLoss()\n",
        "optimizer = optim.SGD(model.parameters(), lr=0.001, momentum=0.9)\n",
        "\n",
        "print(\"\\nTraining mô hình gốc...\")\n",
        "start_time = time.time()\n",
        "_, original_loss = train_model(model, dataloader, criterion, optimizer)\n",
        "end_time = time.time()\n",
        "print(f\"Thời gian training mô hình gốc: {end_time - start_time:.2f} giây\")\n",
        "print(f\"Loss cuối cùng của mô hình gốc: {original_loss:.4f}\")"
      ]
    },
    {
      "cell_type": "markdown",
      "metadata": {},
      "source": [
        "### Train mô hình đã pruning"
      ]
    },
    {
      "cell_type": "code",
      "execution_count": null,
      "metadata": {},
      "outputs": [],
      "source": [
        "\n",
        "criterion = nn.CrossEntropyLoss()\n",
        "optimizer = optim.SGD(pruned_model.parameters(), lr=0.001, momentum=0.9)\n",
        "\n",
        "print(\"\\nTraining mô hình đã pruning...\")\n",
        "start_time = time.time()\n",
        "_, pruned_loss = train_model(pruned_model, dataloader, criterion, optimizer)\n",
        "end_time = time.time()\n"
      ]
    },
    {
      "cell_type": "markdown",
      "metadata": {},
      "source": [
        "### Evaluate"
      ]
    },
    {
      "cell_type": "code",
      "execution_count": null,
      "metadata": {},
      "outputs": [],
      "source": [
        "print(f\"Thời gian training mô hình đã pruning: {end_time - start_time:.2f} giây\")\n",
        "print(f\"Loss cuối cùng của mô hình đã pruning: {pruned_loss:.4f}\")\n",
        "\n",
        "print(f\"\\nChênh lệch loss: {abs(original_loss - pruned_loss):.4f}\")"
      ]
    }
  ],
  "metadata": {
    "accelerator": "GPU",
    "colab": {
      "gpuType": "T4",
      "provenance": []
    },
    "kernelspec": {
      "display_name": ".venv",
      "language": "python",
      "name": "python3"
    },
    "language_info": {
      "name": "python",
      "version": "3.12.4"
    }
  },
  "nbformat": 4,
  "nbformat_minor": 0
}
